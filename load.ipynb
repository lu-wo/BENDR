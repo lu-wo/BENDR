{
 "cells": [
  {
   "cell_type": "code",
   "execution_count": 2,
   "metadata": {},
   "outputs": [],
   "source": [
    "import BendrModels\n",
    "import torch "
   ]
  },
  {
   "cell_type": "code",
   "execution_count": 3,
   "metadata": {},
   "outputs": [],
   "source": [
    "CONTEXT_PATH = \"/itet-stor/wolflu/net_scratch/projects/BENDR/pretrained/contextualizer.pt\"\n",
    "ENCODER_PATH = \"/itet-stor/wolflu/net_scratch/projects/BENDR/pretrained/encoder.pt\""
   ]
  },
  {
   "cell_type": "code",
   "execution_count": 5,
   "metadata": {},
   "outputs": [],
   "source": [
    "# convolutional encoder\n",
    "conv_encoder = BendrModels.ConvEncoderBENDR(in_features=20)\n",
    "sum(p.numel() for p in conv_encoder.parameters() if p.requires_grad)\n",
    "\n",
    "conv_encoder.load(ENCODER_PATH, cpu=True)"
   ]
  },
  {
   "cell_type": "code",
   "execution_count": 6,
   "metadata": {},
   "outputs": [
    {
     "data": {
      "text/plain": [
       "ConvEncoderBENDR(\n",
       "  (encoder): Sequential(\n",
       "    (Encoder_0): Sequential(\n",
       "      (0): Conv1d(20, 512, kernel_size=(3,), stride=(3,), padding=(1,))\n",
       "      (1): Dropout2d(p=0.0, inplace=False)\n",
       "      (2): GroupNorm(256, 512, eps=1e-05, affine=True)\n",
       "      (3): GELU(approximate='none')\n",
       "    )\n",
       "    (Encoder_1): Sequential(\n",
       "      (0): Conv1d(512, 512, kernel_size=(3,), stride=(2,), padding=(1,))\n",
       "      (1): Dropout2d(p=0.0, inplace=False)\n",
       "      (2): GroupNorm(256, 512, eps=1e-05, affine=True)\n",
       "      (3): GELU(approximate='none')\n",
       "    )\n",
       "    (Encoder_2): Sequential(\n",
       "      (0): Conv1d(512, 512, kernel_size=(3,), stride=(2,), padding=(1,))\n",
       "      (1): Dropout2d(p=0.0, inplace=False)\n",
       "      (2): GroupNorm(256, 512, eps=1e-05, affine=True)\n",
       "      (3): GELU(approximate='none')\n",
       "    )\n",
       "    (Encoder_3): Sequential(\n",
       "      (0): Conv1d(512, 512, kernel_size=(3,), stride=(2,), padding=(1,))\n",
       "      (1): Dropout2d(p=0.0, inplace=False)\n",
       "      (2): GroupNorm(256, 512, eps=1e-05, affine=True)\n",
       "      (3): GELU(approximate='none')\n",
       "    )\n",
       "    (Encoder_4): Sequential(\n",
       "      (0): Conv1d(512, 512, kernel_size=(3,), stride=(2,), padding=(1,))\n",
       "      (1): Dropout2d(p=0.0, inplace=False)\n",
       "      (2): GroupNorm(256, 512, eps=1e-05, affine=True)\n",
       "      (3): GELU(approximate='none')\n",
       "    )\n",
       "    (Encoder_5): Sequential(\n",
       "      (0): Conv1d(512, 512, kernel_size=(3,), stride=(2,), padding=(1,))\n",
       "      (1): Dropout2d(p=0.0, inplace=False)\n",
       "      (2): GroupNorm(256, 512, eps=1e-05, affine=True)\n",
       "      (3): GELU(approximate='none')\n",
       "    )\n",
       "  )\n",
       ")"
      ]
     },
     "execution_count": 6,
     "metadata": {},
     "output_type": "execute_result"
    }
   ],
   "source": [
    "conv_encoder"
   ]
  },
  {
   "cell_type": "code",
   "execution_count": 19,
   "metadata": {},
   "outputs": [
    {
     "data": {
      "text/plain": [
       "57226809"
      ]
     },
     "execution_count": 19,
     "metadata": {},
     "output_type": "execute_result"
    }
   ],
   "source": [
    "# transformer encoder\n",
    "contextualizer = BendrModels.BENDRContextualizer(in_features=256)\n",
    "sum(p.numel() for p in contextualizer.parameters() if p.requires_grad)"
   ]
  },
  {
   "cell_type": "code",
   "execution_count": 6,
   "metadata": {},
   "outputs": [],
   "source": [
    "#contextualizer.load(CONTEXT_PATH, cpu=True)"
   ]
  },
  {
   "cell_type": "code",
   "execution_count": 26,
   "metadata": {},
   "outputs": [],
   "source": [
    "t = torch.randn(16, 128, 500)"
   ]
  },
  {
   "cell_type": "code",
   "execution_count": 27,
   "metadata": {},
   "outputs": [
    {
     "data": {
      "text/plain": [
       "torch.Size([16, 256, 6])"
      ]
     },
     "execution_count": 27,
     "metadata": {},
     "output_type": "execute_result"
    }
   ],
   "source": [
    "conv_encoder(t).shape"
   ]
  },
  {
   "cell_type": "code",
   "execution_count": null,
   "metadata": {},
   "outputs": [],
   "source": [
    "process = BendrModels.BendingCollegeWav2Vec(conv_encoder, contextualizer)"
   ]
  }
 ],
 "metadata": {
  "kernelspec": {
   "display_name": "bendr",
   "language": "python",
   "name": "python3"
  },
  "language_info": {
   "codemirror_mode": {
    "name": "ipython",
    "version": 3
   },
   "file_extension": ".py",
   "mimetype": "text/x-python",
   "name": "python",
   "nbconvert_exporter": "python",
   "pygments_lexer": "ipython3",
   "version": "3.7.16"
  },
  "orig_nbformat": 4,
  "vscode": {
   "interpreter": {
    "hash": "642ebc7bc53e18fed2c7c4ed3bf231bf189cdd1c46901f8535cbd1f91e3b41fb"
   }
  }
 },
 "nbformat": 4,
 "nbformat_minor": 2
}
