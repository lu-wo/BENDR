{
 "cells": [
  {
   "attachments": {},
   "cell_type": "markdown",
   "metadata": {},
   "source": [
    "# Load from DN3 (original BENDR)"
   ]
  },
  {
   "cell_type": "code",
   "execution_count": 1,
   "metadata": {},
   "outputs": [],
   "source": [
    "import dn3_ext\n",
    "import torch "
   ]
  },
  {
   "cell_type": "code",
   "execution_count": 2,
   "metadata": {},
   "outputs": [
    {
     "name": "stdout",
     "output_type": "stream",
     "text": [
      "4137984\n"
     ]
    },
    {
     "name": "stderr",
     "output_type": "stream",
     "text": [
      "/itet-stor/wolflu/net_scratch/conda_envs/bendr/lib/python3.7/site-packages/torch/nn/functional.py:1338: UserWarning: dropout2d: Received a 3D input to dropout2d and assuming that channel-wise 1D dropout behavior is desired - input is interpreted as shape (N, C, L), where C is the channel dim. This behavior will change in a future release to interpret the input as one without a batch dimension, i.e. shape (C, H, W). To maintain the 1D channel-wise dropout behavior, please switch to using dropout1d instead.\n",
      "  warnings.warn(\"dropout2d: Received a 3D input to dropout2d and assuming that channel-wise \"\n"
     ]
    },
    {
     "data": {
      "text/plain": [
       "torch.Size([16, 512, 11])"
      ]
     },
     "execution_count": 2,
     "metadata": {},
     "output_type": "execute_result"
    }
   ],
   "source": [
    "conv_encoder = dn3_ext.ConvEncoderBENDR(in_features=128, encoder_h=512)\n",
    "print(sum(p.numel() for p in conv_encoder.parameters() if p.requires_grad))\n",
    "t1 = torch.rand(16, 128, 1024)\n",
    "conv_encoder(t1).shape"
   ]
  },
  {
   "cell_type": "code",
   "execution_count": 5,
   "metadata": {},
   "outputs": [
    {
     "name": "stdout",
     "output_type": "stream",
     "text": [
      "23783225\n"
     ]
    },
    {
     "data": {
      "text/plain": [
       "torch.Size([16, 128, 12])"
      ]
     },
     "execution_count": 5,
     "metadata": {},
     "output_type": "execute_result"
    }
   ],
   "source": [
    "contextualizer = dn3_ext.BENDRContextualizer(in_features=128)\n",
    "print(sum(p.numel() for p in contextualizer.parameters() if p.requires_grad))\n",
    "t2 = torch.rand(16, 128, 11)\n",
    "contextualizer(t2).shape"
   ]
  },
  {
   "cell_type": "code",
   "execution_count": 19,
   "metadata": {},
   "outputs": [],
   "source": [
    "model = dn3_ext.BendingCollegeWav2Vec(conv_encoder, contextualizer)"
   ]
  },
  {
   "cell_type": "code",
   "execution_count": 22,
   "metadata": {},
   "outputs": [
    {
     "data": {
      "text/plain": [
       "(torch.Size([176, 101]), torch.Size([16, 512, 11]), torch.Size([16, 11]))"
      ]
     },
     "execution_count": 22,
     "metadata": {},
     "output_type": "execute_result"
    }
   ],
   "source": [
    "logits, z, mask = model.forward(t1)\n",
    "logits.shape, z.shape, mask.shape"
   ]
  },
  {
   "cell_type": "code",
   "execution_count": 8,
   "metadata": {},
   "outputs": [
    {
     "data": {
      "text/plain": [
       "torch.Size([32, 10, 512])"
      ]
     },
     "execution_count": 8,
     "metadata": {},
     "output_type": "execute_result"
    }
   ],
   "source": [
    "encoder_layer = torch.nn.TransformerEncoderLayer(d_model=512, nhead=8, batch_first=True)\n",
    "src = torch.rand(32, 10, 512)\n",
    "out = encoder_layer(src)\n",
    "out.shape"
   ]
  },
  {
   "cell_type": "code",
   "execution_count": 12,
   "metadata": {},
   "outputs": [],
   "source": [
    "def _generate_negatives(self, z, num_negatives=20):\n",
    "        \"\"\"Generate negative samples to compare each sequence location against\"\"\"\n",
    "        batch_size, feat, full_len = z.shape\n",
    "        z_k = z.permute([0, 2, 1]).reshape(-1, feat)\n",
    "        with torch.no_grad():\n",
    "            # candidates = torch.arange(full_len).unsqueeze(-1).expand(-1, self.num_negatives).flatten()\n",
    "            negative_inds = torch.randint(0, full_len-1, size=(batch_size, full_len * num_negatives))\n",
    "            # From wav2vec 2.0 implementation, I don't understand\n",
    "            # negative_inds[negative_inds >= candidates] += 1\n",
    "\n",
    "            for i in range(1, batch_size):\n",
    "                negative_inds[i] += i * full_len\n",
    "\n",
    "        z_k = z_k[negative_inds.view(-1)].view(batch_size, full_len, num_negatives, feat)\n",
    "        return z_k, negative_inds"
   ]
  },
  {
   "cell_type": "code",
   "execution_count": 13,
   "metadata": {},
   "outputs": [
    {
     "data": {
      "text/plain": [
       "(torch.Size([16, 10, 20, 512]), torch.Size([16, 200]))"
      ]
     },
     "execution_count": 13,
     "metadata": {},
     "output_type": "execute_result"
    }
   ],
   "source": [
    "z = torch.rand(16, 512, 10)\n",
    "z_k, negative_inds = _generate_negatives(None, z)\n",
    "z_k.shape, negative_inds.shape"
   ]
  },
  {
   "cell_type": "code",
   "execution_count": null,
   "metadata": {},
   "outputs": [],
   "source": []
  },
  {
   "attachments": {},
   "cell_type": "markdown",
   "metadata": {},
   "source": [
    "# Dataloader test"
   ]
  },
  {
   "cell_type": "code",
   "execution_count": 1,
   "metadata": {},
   "outputs": [],
   "source": [
    "import datasets\n",
    "import torch "
   ]
  },
  {
   "cell_type": "code",
   "execution_count": 2,
   "metadata": {},
   "outputs": [],
   "source": [
    "dataset = datasets.MultiParticipantDataset(\n",
    "    root_dir=\"/itet-stor/wolflu/net_scratch/projects/EEGEyeNet_experimental/data/stream\"\n",
    ")"
   ]
  },
  {
   "cell_type": "code",
   "execution_count": 10,
   "metadata": {},
   "outputs": [],
   "source": [
    "dataloader = torch.utils.data.DataLoader(dataset, batch_size=16, shuffle=True, num_workers=4)"
   ]
  },
  {
   "cell_type": "code",
   "execution_count": 4,
   "metadata": {},
   "outputs": [
    {
     "data": {
      "text/html": [
       "<div>\n",
       "<style scoped>\n",
       "    .dataframe tbody tr th:only-of-type {\n",
       "        vertical-align: middle;\n",
       "    }\n",
       "\n",
       "    .dataframe tbody tr th {\n",
       "        vertical-align: top;\n",
       "    }\n",
       "\n",
       "    .dataframe thead th {\n",
       "        text-align: right;\n",
       "    }\n",
       "</style>\n",
       "<table border=\"1\" class=\"dataframe\">\n",
       "  <thead>\n",
       "    <tr style=\"text-align: right;\">\n",
       "      <th></th>\n",
       "      <th>Unnamed: 0</th>\n",
       "      <th>channel_0</th>\n",
       "      <th>channel_1</th>\n",
       "      <th>channel_2</th>\n",
       "      <th>channel_3</th>\n",
       "      <th>channel_4</th>\n",
       "      <th>channel_5</th>\n",
       "      <th>channel_6</th>\n",
       "      <th>channel_7</th>\n",
       "      <th>channel_8</th>\n",
       "      <th>...</th>\n",
       "      <th>channel_122</th>\n",
       "      <th>channel_123</th>\n",
       "      <th>channel_124</th>\n",
       "      <th>channel_125</th>\n",
       "      <th>channel_126</th>\n",
       "      <th>channel_127</th>\n",
       "      <th>x</th>\n",
       "      <th>y</th>\n",
       "      <th>latency</th>\n",
       "      <th>event</th>\n",
       "    </tr>\n",
       "  </thead>\n",
       "  <tbody>\n",
       "    <tr>\n",
       "      <th>0</th>\n",
       "      <td>0</td>\n",
       "      <td>56.257469</td>\n",
       "      <td>18.051191</td>\n",
       "      <td>26.662785</td>\n",
       "      <td>29.870787</td>\n",
       "      <td>22.915567</td>\n",
       "      <td>20.315931</td>\n",
       "      <td>9.134151</td>\n",
       "      <td>92.910492</td>\n",
       "      <td>56.556118</td>\n",
       "      <td>...</td>\n",
       "      <td>33.492527</td>\n",
       "      <td>24.869997</td>\n",
       "      <td>2.918007</td>\n",
       "      <td>35.776516</td>\n",
       "      <td>9.448587</td>\n",
       "      <td>-57.668213</td>\n",
       "      <td>203.838272</td>\n",
       "      <td>587.647766</td>\n",
       "      <td>1022</td>\n",
       "      <td>L_sa</td>\n",
       "    </tr>\n",
       "    <tr>\n",
       "      <th>1</th>\n",
       "      <td>1</td>\n",
       "      <td>57.057518</td>\n",
       "      <td>20.887222</td>\n",
       "      <td>22.547913</td>\n",
       "      <td>39.934853</td>\n",
       "      <td>19.913111</td>\n",
       "      <td>18.151897</td>\n",
       "      <td>7.447501</td>\n",
       "      <td>90.984131</td>\n",
       "      <td>55.496334</td>\n",
       "      <td>...</td>\n",
       "      <td>37.711662</td>\n",
       "      <td>26.393988</td>\n",
       "      <td>9.511328</td>\n",
       "      <td>38.023495</td>\n",
       "      <td>8.503574</td>\n",
       "      <td>-58.431644</td>\n",
       "      <td>240.135223</td>\n",
       "      <td>573.144897</td>\n",
       "      <td>1023</td>\n",
       "      <td>L_sa</td>\n",
       "    </tr>\n",
       "    <tr>\n",
       "      <th>2</th>\n",
       "      <td>2</td>\n",
       "      <td>59.403660</td>\n",
       "      <td>21.838907</td>\n",
       "      <td>28.809597</td>\n",
       "      <td>39.751484</td>\n",
       "      <td>18.698540</td>\n",
       "      <td>18.242762</td>\n",
       "      <td>7.906695</td>\n",
       "      <td>92.435623</td>\n",
       "      <td>57.216488</td>\n",
       "      <td>...</td>\n",
       "      <td>41.699432</td>\n",
       "      <td>22.582708</td>\n",
       "      <td>15.671942</td>\n",
       "      <td>40.256069</td>\n",
       "      <td>6.635967</td>\n",
       "      <td>-58.401382</td>\n",
       "      <td>335.638641</td>\n",
       "      <td>561.219055</td>\n",
       "      <td>1024</td>\n",
       "      <td>L_sa</td>\n",
       "    </tr>\n",
       "    <tr>\n",
       "      <th>3</th>\n",
       "      <td>3</td>\n",
       "      <td>58.965668</td>\n",
       "      <td>17.897776</td>\n",
       "      <td>30.020729</td>\n",
       "      <td>35.211407</td>\n",
       "      <td>20.898821</td>\n",
       "      <td>19.694096</td>\n",
       "      <td>8.783145</td>\n",
       "      <td>88.797241</td>\n",
       "      <td>56.081818</td>\n",
       "      <td>...</td>\n",
       "      <td>39.327866</td>\n",
       "      <td>23.335234</td>\n",
       "      <td>13.596437</td>\n",
       "      <td>38.504345</td>\n",
       "      <td>6.441703</td>\n",
       "      <td>-57.743423</td>\n",
       "      <td>429.658691</td>\n",
       "      <td>547.339172</td>\n",
       "      <td>1025</td>\n",
       "      <td>L_sa</td>\n",
       "    </tr>\n",
       "    <tr>\n",
       "      <th>4</th>\n",
       "      <td>4</td>\n",
       "      <td>58.359009</td>\n",
       "      <td>17.951101</td>\n",
       "      <td>31.220240</td>\n",
       "      <td>36.926132</td>\n",
       "      <td>21.192352</td>\n",
       "      <td>19.414371</td>\n",
       "      <td>8.368823</td>\n",
       "      <td>87.650238</td>\n",
       "      <td>55.861965</td>\n",
       "      <td>...</td>\n",
       "      <td>36.803974</td>\n",
       "      <td>27.312857</td>\n",
       "      <td>12.131395</td>\n",
       "      <td>37.479729</td>\n",
       "      <td>7.741166</td>\n",
       "      <td>-54.807995</td>\n",
       "      <td>517.024902</td>\n",
       "      <td>526.905518</td>\n",
       "      <td>1026</td>\n",
       "      <td>L_sa</td>\n",
       "    </tr>\n",
       "  </tbody>\n",
       "</table>\n",
       "<p>5 rows × 133 columns</p>\n",
       "</div>"
      ],
      "text/plain": [
       "   Unnamed: 0  channel_0  channel_1  channel_2  channel_3  channel_4  \\\n",
       "0           0  56.257469  18.051191  26.662785  29.870787  22.915567   \n",
       "1           1  57.057518  20.887222  22.547913  39.934853  19.913111   \n",
       "2           2  59.403660  21.838907  28.809597  39.751484  18.698540   \n",
       "3           3  58.965668  17.897776  30.020729  35.211407  20.898821   \n",
       "4           4  58.359009  17.951101  31.220240  36.926132  21.192352   \n",
       "\n",
       "   channel_5  channel_6  channel_7  channel_8  ...  channel_122  channel_123  \\\n",
       "0  20.315931   9.134151  92.910492  56.556118  ...    33.492527    24.869997   \n",
       "1  18.151897   7.447501  90.984131  55.496334  ...    37.711662    26.393988   \n",
       "2  18.242762   7.906695  92.435623  57.216488  ...    41.699432    22.582708   \n",
       "3  19.694096   8.783145  88.797241  56.081818  ...    39.327866    23.335234   \n",
       "4  19.414371   8.368823  87.650238  55.861965  ...    36.803974    27.312857   \n",
       "\n",
       "   channel_124  channel_125  channel_126  channel_127           x           y  \\\n",
       "0     2.918007    35.776516     9.448587   -57.668213  203.838272  587.647766   \n",
       "1     9.511328    38.023495     8.503574   -58.431644  240.135223  573.144897   \n",
       "2    15.671942    40.256069     6.635967   -58.401382  335.638641  561.219055   \n",
       "3    13.596437    38.504345     6.441703   -57.743423  429.658691  547.339172   \n",
       "4    12.131395    37.479729     7.741166   -54.807995  517.024902  526.905518   \n",
       "\n",
       "   latency  event  \n",
       "0     1022   L_sa  \n",
       "1     1023   L_sa  \n",
       "2     1024   L_sa  \n",
       "3     1025   L_sa  \n",
       "4     1026   L_sa  \n",
       "\n",
       "[5 rows x 133 columns]"
      ]
     },
     "execution_count": 4,
     "metadata": {},
     "output_type": "execute_result"
    }
   ],
   "source": [
    "import pandas as pd \n",
    "\n",
    "df = pd.read_csv(\"/itet-stor/wolflu/net_scratch/projects/EEGEyeNet_experimental/data/stream/zuco/synch_min/YDG/YDG_NR1_EEG/substream_1.csv\")\n",
    "df.head()"
   ]
  },
  {
   "cell_type": "code",
   "execution_count": null,
   "metadata": {},
   "outputs": [],
   "source": []
  }
 ],
 "metadata": {
  "kernelspec": {
   "display_name": "bendr",
   "language": "python",
   "name": "python3"
  },
  "language_info": {
   "codemirror_mode": {
    "name": "ipython",
    "version": 3
   },
   "file_extension": ".py",
   "mimetype": "text/x-python",
   "name": "python",
   "nbconvert_exporter": "python",
   "pygments_lexer": "ipython3",
   "version": "3.7.16"
  },
  "orig_nbformat": 4,
  "vscode": {
   "interpreter": {
    "hash": "642ebc7bc53e18fed2c7c4ed3bf231bf189cdd1c46901f8535cbd1f91e3b41fb"
   }
  }
 },
 "nbformat": 4,
 "nbformat_minor": 2
}
